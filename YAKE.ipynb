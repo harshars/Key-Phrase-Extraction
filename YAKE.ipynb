{
 "cells": [
  {
   "cell_type": "code",
   "execution_count": 10,
   "metadata": {},
   "outputs": [
    {
     "name": "stdout",
     "output_type": "stream",
     "text": [
      "('current sow', 0.009108237309423345)\n",
      "('mmm program', 0.013797198203993007)\n",
      "('sow', 0.057012387690331526)\n"
     ]
    }
   ],
   "source": [
    "import yake\n",
    "\n",
    "text_content = \"\"\"\n",
    "The number of countries within scope under XXX program is limited to maximum of 17 for the current SOW\n",
    "\"\"\"\n",
    "\n",
    "# specifying parameters\n",
    "custom_kwextractor = yake.KeywordExtractor(lan=\"en\", n=2, dedupLim=0.8, windowsSize=2, top=3)\n",
    "keywords = custom_kwextractor.extract_keywords(text_content)\n",
    "\n",
    "for kw in keywords:\n",
    "\tprint(kw)"
   ]
  }
 ],
 "metadata": {
  "kernelspec": {
   "display_name": "Python 3",
   "language": "python",
   "name": "python3"
  },
  "language_info": {
   "codemirror_mode": {
    "name": "ipython",
    "version": 3
   },
   "file_extension": ".py",
   "mimetype": "text/x-python",
   "name": "python",
   "nbconvert_exporter": "python",
   "pygments_lexer": "ipython3",
   "version": "3.6.5"
  }
 },
 "nbformat": 4,
 "nbformat_minor": 2
}
