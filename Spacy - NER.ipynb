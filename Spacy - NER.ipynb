{
 "cells": [
  {
   "cell_type": "code",
   "execution_count": 1,
   "metadata": {},
   "outputs": [],
   "source": [
    "import spacy\n",
    "from spacy import displacy\n",
    "from collections import Counter\n",
    "nlp = spacy.load('en_core_web_sm')"
   ]
  },
  {
   "cell_type": "code",
   "execution_count": 8,
   "metadata": {},
   "outputs": [
    {
     "name": "stdout",
     "output_type": "stream",
     "text": [
      "[('SOW', 'ORG'), ('September 1st, 2018', 'DATE'), ('SOW', 'ORG'), ('CIO', 'ORG'), ('YYY', 'ORG'), ('XXX', 'ORG'), ('YYY', 'ORG'), ('CIO', 'ORG'), ('MMM', 'ORG'), ('September 1st, 2018 to December 31st, 2018', 'DATE'), ('ZZZ', 'ORG'), ('17', 'CARDINAL'), ('SOW', 'ORG')]\n"
     ]
    }
   ],
   "source": [
    "doc = nlp('Effective Date of this SOW is September 1st, 2018. \\\n",
    "This SOW focuses on operationalizing CIO application for YYY analytics. XXX will \\\n",
    "support YYY analytics with backend data processing automation (current market-mix model output \\\n",
    "along with spend-plan calendar into consumable CIO input template for all countries under MMM \\\n",
    "program). Time span for project duration is planned from September 1st, 2018 to December 31st, 2018. \\\n",
    "The number of countries within scope under ZZZ program is limited to maximum of 17 for \\\n",
    "the current SOW')\n",
    "print([(X.text, X.label_) for X in doc.ents])"
   ]
  },
  {
   "cell_type": "code",
   "execution_count": 9,
   "metadata": {},
   "outputs": [
    {
     "data": {
      "text/plain": [
       "Counter({'ORG': 10, 'DATE': 2, 'CARDINAL': 1})"
      ]
     },
     "execution_count": 9,
     "metadata": {},
     "output_type": "execute_result"
    }
   ],
   "source": [
    "labels = [x.label_ for x in doc.ents]\n",
    "Counter(labels)"
   ]
  },
  {
   "cell_type": "code",
   "execution_count": 10,
   "metadata": {},
   "outputs": [
    {
     "data": {
      "text/html": [
       "<div class=\"entities\" style=\"line-height: 2.5\">Effective Date of this \n",
       "<mark class=\"entity\" style=\"background: #7aecec; padding: 0.45em 0.6em; margin: 0 0.25em; line-height: 1; border-radius: 0.35em; box-decoration-break: clone; -webkit-box-decoration-break: clone\">\n",
       "    SOW\n",
       "    <span style=\"font-size: 0.8em; font-weight: bold; line-height: 1; border-radius: 0.35em; text-transform: uppercase; vertical-align: middle; margin-left: 0.5rem\">ORG</span>\n",
       "</mark>\n",
       " is \n",
       "<mark class=\"entity\" style=\"background: #bfe1d9; padding: 0.45em 0.6em; margin: 0 0.25em; line-height: 1; border-radius: 0.35em; box-decoration-break: clone; -webkit-box-decoration-break: clone\">\n",
       "    September 1st, 2018\n",
       "    <span style=\"font-size: 0.8em; font-weight: bold; line-height: 1; border-radius: 0.35em; text-transform: uppercase; vertical-align: middle; margin-left: 0.5rem\">DATE</span>\n",
       "</mark>\n",
       ". This \n",
       "<mark class=\"entity\" style=\"background: #7aecec; padding: 0.45em 0.6em; margin: 0 0.25em; line-height: 1; border-radius: 0.35em; box-decoration-break: clone; -webkit-box-decoration-break: clone\">\n",
       "    SOW\n",
       "    <span style=\"font-size: 0.8em; font-weight: bold; line-height: 1; border-radius: 0.35em; text-transform: uppercase; vertical-align: middle; margin-left: 0.5rem\">ORG</span>\n",
       "</mark>\n",
       " focuses on operationalizing \n",
       "<mark class=\"entity\" style=\"background: #7aecec; padding: 0.45em 0.6em; margin: 0 0.25em; line-height: 1; border-radius: 0.35em; box-decoration-break: clone; -webkit-box-decoration-break: clone\">\n",
       "    CIO\n",
       "    <span style=\"font-size: 0.8em; font-weight: bold; line-height: 1; border-radius: 0.35em; text-transform: uppercase; vertical-align: middle; margin-left: 0.5rem\">ORG</span>\n",
       "</mark>\n",
       " application for \n",
       "<mark class=\"entity\" style=\"background: #7aecec; padding: 0.45em 0.6em; margin: 0 0.25em; line-height: 1; border-radius: 0.35em; box-decoration-break: clone; -webkit-box-decoration-break: clone\">\n",
       "    YYY\n",
       "    <span style=\"font-size: 0.8em; font-weight: bold; line-height: 1; border-radius: 0.35em; text-transform: uppercase; vertical-align: middle; margin-left: 0.5rem\">ORG</span>\n",
       "</mark>\n",
       " analytics. \n",
       "<mark class=\"entity\" style=\"background: #7aecec; padding: 0.45em 0.6em; margin: 0 0.25em; line-height: 1; border-radius: 0.35em; box-decoration-break: clone; -webkit-box-decoration-break: clone\">\n",
       "    XXX\n",
       "    <span style=\"font-size: 0.8em; font-weight: bold; line-height: 1; border-radius: 0.35em; text-transform: uppercase; vertical-align: middle; margin-left: 0.5rem\">ORG</span>\n",
       "</mark>\n",
       " will support \n",
       "<mark class=\"entity\" style=\"background: #7aecec; padding: 0.45em 0.6em; margin: 0 0.25em; line-height: 1; border-radius: 0.35em; box-decoration-break: clone; -webkit-box-decoration-break: clone\">\n",
       "    YYY\n",
       "    <span style=\"font-size: 0.8em; font-weight: bold; line-height: 1; border-radius: 0.35em; text-transform: uppercase; vertical-align: middle; margin-left: 0.5rem\">ORG</span>\n",
       "</mark>\n",
       " analytics with backend data processing automation (current market-mix model output along with spend-plan calendar into consumable \n",
       "<mark class=\"entity\" style=\"background: #7aecec; padding: 0.45em 0.6em; margin: 0 0.25em; line-height: 1; border-radius: 0.35em; box-decoration-break: clone; -webkit-box-decoration-break: clone\">\n",
       "    CIO\n",
       "    <span style=\"font-size: 0.8em; font-weight: bold; line-height: 1; border-radius: 0.35em; text-transform: uppercase; vertical-align: middle; margin-left: 0.5rem\">ORG</span>\n",
       "</mark>\n",
       " input template for all countries under \n",
       "<mark class=\"entity\" style=\"background: #7aecec; padding: 0.45em 0.6em; margin: 0 0.25em; line-height: 1; border-radius: 0.35em; box-decoration-break: clone; -webkit-box-decoration-break: clone\">\n",
       "    MMM\n",
       "    <span style=\"font-size: 0.8em; font-weight: bold; line-height: 1; border-radius: 0.35em; text-transform: uppercase; vertical-align: middle; margin-left: 0.5rem\">ORG</span>\n",
       "</mark>\n",
       " program). Time span for project duration is planned from \n",
       "<mark class=\"entity\" style=\"background: #bfe1d9; padding: 0.45em 0.6em; margin: 0 0.25em; line-height: 1; border-radius: 0.35em; box-decoration-break: clone; -webkit-box-decoration-break: clone\">\n",
       "    September 1st, 2018 to December 31st, 2018\n",
       "    <span style=\"font-size: 0.8em; font-weight: bold; line-height: 1; border-radius: 0.35em; text-transform: uppercase; vertical-align: middle; margin-left: 0.5rem\">DATE</span>\n",
       "</mark>\n",
       ". The number of countries within scope under \n",
       "<mark class=\"entity\" style=\"background: #7aecec; padding: 0.45em 0.6em; margin: 0 0.25em; line-height: 1; border-radius: 0.35em; box-decoration-break: clone; -webkit-box-decoration-break: clone\">\n",
       "    ZZZ\n",
       "    <span style=\"font-size: 0.8em; font-weight: bold; line-height: 1; border-radius: 0.35em; text-transform: uppercase; vertical-align: middle; margin-left: 0.5rem\">ORG</span>\n",
       "</mark>\n",
       " program is limited to maximum of \n",
       "<mark class=\"entity\" style=\"background: #e4e7d2; padding: 0.45em 0.6em; margin: 0 0.25em; line-height: 1; border-radius: 0.35em; box-decoration-break: clone; -webkit-box-decoration-break: clone\">\n",
       "    17\n",
       "    <span style=\"font-size: 0.8em; font-weight: bold; line-height: 1; border-radius: 0.35em; text-transform: uppercase; vertical-align: middle; margin-left: 0.5rem\">CARDINAL</span>\n",
       "</mark>\n",
       " for the current \n",
       "<mark class=\"entity\" style=\"background: #7aecec; padding: 0.45em 0.6em; margin: 0 0.25em; line-height: 1; border-radius: 0.35em; box-decoration-break: clone; -webkit-box-decoration-break: clone\">\n",
       "    SOW\n",
       "    <span style=\"font-size: 0.8em; font-weight: bold; line-height: 1; border-radius: 0.35em; text-transform: uppercase; vertical-align: middle; margin-left: 0.5rem\">ORG</span>\n",
       "</mark>\n",
       "</div>"
      ],
      "text/plain": [
       "<IPython.core.display.HTML object>"
      ]
     },
     "metadata": {},
     "output_type": "display_data"
    }
   ],
   "source": [
    "displacy.render(doc, jupyter=True, style='ent')"
   ]
  },
  {
   "cell_type": "code",
   "execution_count": 11,
   "metadata": {},
   "outputs": [
    {
     "data": {
      "text/plain": [
       "[('Effective', ''),\n",
       " ('Date', ''),\n",
       " ('of', ''),\n",
       " ('this', ''),\n",
       " ('SOW', 'ORG'),\n",
       " ('is', ''),\n",
       " ('September', 'DATE'),\n",
       " ('1st', 'DATE'),\n",
       " (',', 'DATE'),\n",
       " ('2018', 'DATE'),\n",
       " ('.', ''),\n",
       " ('This', ''),\n",
       " ('SOW', 'ORG'),\n",
       " ('focuses', ''),\n",
       " ('on', ''),\n",
       " ('operationalizing', ''),\n",
       " ('CIO', 'ORG'),\n",
       " ('application', ''),\n",
       " ('for', ''),\n",
       " ('YYY', 'ORG'),\n",
       " ('analytics', ''),\n",
       " ('.', ''),\n",
       " ('XXX', 'ORG'),\n",
       " ('will', ''),\n",
       " ('support', ''),\n",
       " ('YYY', 'ORG'),\n",
       " ('analytics', ''),\n",
       " ('with', ''),\n",
       " ('backend', ''),\n",
       " ('data', ''),\n",
       " ('processing', ''),\n",
       " ('automation', ''),\n",
       " ('(', ''),\n",
       " ('current', ''),\n",
       " ('market', ''),\n",
       " ('-', ''),\n",
       " ('mix', ''),\n",
       " ('model', ''),\n",
       " ('output', ''),\n",
       " ('along', ''),\n",
       " ('with', ''),\n",
       " ('spend', ''),\n",
       " ('-', ''),\n",
       " ('plan', ''),\n",
       " ('calendar', ''),\n",
       " ('into', ''),\n",
       " ('consumable', ''),\n",
       " ('CIO', 'ORG'),\n",
       " ('input', ''),\n",
       " ('template', ''),\n",
       " ('for', ''),\n",
       " ('all', ''),\n",
       " ('countries', ''),\n",
       " ('under', ''),\n",
       " ('MMM', 'ORG'),\n",
       " ('program', ''),\n",
       " (')', ''),\n",
       " ('.', ''),\n",
       " ('Time', ''),\n",
       " ('span', ''),\n",
       " ('for', ''),\n",
       " ('project', ''),\n",
       " ('duration', ''),\n",
       " ('is', ''),\n",
       " ('planned', ''),\n",
       " ('from', ''),\n",
       " ('September', 'DATE'),\n",
       " ('1st', 'DATE'),\n",
       " (',', 'DATE'),\n",
       " ('2018', 'DATE'),\n",
       " ('to', 'DATE'),\n",
       " ('December', 'DATE'),\n",
       " ('31st', 'DATE'),\n",
       " (',', 'DATE'),\n",
       " ('2018', 'DATE'),\n",
       " ('.', ''),\n",
       " ('The', ''),\n",
       " ('number', ''),\n",
       " ('of', ''),\n",
       " ('countries', ''),\n",
       " ('within', ''),\n",
       " ('scope', ''),\n",
       " ('under', ''),\n",
       " ('ZZZ', 'ORG'),\n",
       " ('program', ''),\n",
       " ('is', ''),\n",
       " ('limited', ''),\n",
       " ('to', ''),\n",
       " ('maximum', ''),\n",
       " ('of', ''),\n",
       " ('17', 'CARDINAL'),\n",
       " ('for', ''),\n",
       " ('the', ''),\n",
       " ('current', ''),\n",
       " ('SOW', 'ORG')]"
      ]
     },
     "execution_count": 11,
     "metadata": {},
     "output_type": "execute_result"
    }
   ],
   "source": [
    "[(x.text,x.ent_type_) for x in doc]"
   ]
  },
  {
   "cell_type": "code",
   "execution_count": 12,
   "metadata": {},
   "outputs": [],
   "source": [
    "temp = [(str(x), x.label_) for x in doc.ents if (x.label_=='DATE' or x.label_=='CARDINAL')]"
   ]
  },
  {
   "cell_type": "code",
   "execution_count": 13,
   "metadata": {},
   "outputs": [
    {
     "data": {
      "text/plain": [
       "[('September 1st, 2018', 'DATE'),\n",
       " ('September 1st, 2018 to December 31st, 2018', 'DATE'),\n",
       " ('17', 'CARDINAL')]"
      ]
     },
     "execution_count": 13,
     "metadata": {},
     "output_type": "execute_result"
    }
   ],
   "source": [
    "temp"
   ]
  },
  {
   "cell_type": "code",
   "execution_count": 14,
   "metadata": {},
   "outputs": [
    {
     "data": {
      "text/plain": [
       "['Effective Date of this SOW is September 1st, 2018.',\n",
       " ' Time span for project duration is planned from September 1st, 2018 to December 31st, 2018.']"
      ]
     },
     "execution_count": 14,
     "metadata": {},
     "output_type": "execute_result"
    }
   ],
   "source": [
    "import re\n",
    "re.findall(r\"([^.]*?\"+str(temp[0][0])+\"[^.]*\\.)\",doc.text)"
   ]
  }
 ],
 "metadata": {
  "kernelspec": {
   "display_name": "Python 3",
   "language": "python",
   "name": "python3"
  },
  "language_info": {
   "codemirror_mode": {
    "name": "ipython",
    "version": 3
   },
   "file_extension": ".py",
   "mimetype": "text/x-python",
   "name": "python",
   "nbconvert_exporter": "python",
   "pygments_lexer": "ipython3",
   "version": "3.6.5"
  }
 },
 "nbformat": 4,
 "nbformat_minor": 2
}
